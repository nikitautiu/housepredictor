{
 "cells": [
  {
   "cell_type": "code",
   "execution_count": 54,
   "metadata": {
    "collapsed": true
   },
   "outputs": [],
   "source": [
    "%matplotlib inline\n",
    "# standard\n",
    "import sys\n",
    "import os\n",
    "import re\n",
    "\n",
    "# pandas\n",
    "import pandas as pd\n",
    "\n",
    "# numpy, matplotlib, seaborn\n",
    "import numpy as np\n",
    "import matplotlib.pyplot as plt\n",
    "import seaborn as sns\n",
    "import fancyimpute\n",
    "\n",
    "\n",
    "from sklearn.preprocessing import FunctionTransformer, LabelEncoder, OneHotEncoder, Imputer, Normalizer\n",
    "from sklearn.feature_extraction.text import TfidfVectorizer\n",
    "from sklearn import model_selection, tree\n",
    "from sklearn.linear_model import Lasso, SGDRegressor, LinearRegression\n",
    "from sklearn.svm import SVR, LinearSVR\n",
    "from sklearn.model_selection import learning_curve\n",
    "from sklearn.neural_network import MLPRegressor\n",
    "from sklearn.ensemble import RandomForestRegressor\n",
    "from sklearn.feature_selection import RFE\n",
    "\n",
    "from scipy import sparse\n",
    "\n",
    "# needed for project imports\n",
    "sys.path.append(os.path.join(os.getcwd(), \"../..\"))\n",
    "\n",
    "# project imports\n",
    "from housepredictor.extractor import extract_examples, FeatureExtractor, num_cols, extract_textual, extract_dates, extract_categorical\n",
    "# this styling is purely my preference\n",
    "# less chartjunk\n",
    "sns.set_context('notebook', font_scale=1.5, rc={'line.linewidth': 2.5})\n",
    "sns.set(style='ticks', palette='Set2')\n",
    "\n",
    "RANDOM_STATE = 123"
   ]
  },
  {
   "cell_type": "code",
   "execution_count": 55,
   "metadata": {},
   "outputs": [
    {
     "data": {
      "text/html": [
       "<div>\n",
       "<style>\n",
       "    .dataframe thead tr:only-child th {\n",
       "        text-align: right;\n",
       "    }\n",
       "\n",
       "    .dataframe thead th {\n",
       "        text-align: left;\n",
       "    }\n",
       "\n",
       "    .dataframe tbody tr th {\n",
       "        vertical-align: top;\n",
       "    }\n",
       "</style>\n",
       "<table border=\"1\" class=\"dataframe\">\n",
       "  <thead>\n",
       "    <tr style=\"text-align: right;\">\n",
       "      <th></th>\n",
       "      <th>AantalBadkamers</th>\n",
       "      <th>AantalKamers</th>\n",
       "      <th>AantalWoonlagen</th>\n",
       "      <th>Aanvaarding</th>\n",
       "      <th>Adres</th>\n",
       "      <th>AfgekochtDatum</th>\n",
       "      <th>BalkonDakterras</th>\n",
       "      <th>BijdrageVVE</th>\n",
       "      <th>Bijzonderheden</th>\n",
       "      <th>Bouwjaar</th>\n",
       "      <th>...</th>\n",
       "      <th>SoortWoning</th>\n",
       "      <th>TuinLigging</th>\n",
       "      <th>Verwarming</th>\n",
       "      <th>VolledigeOmschrijving</th>\n",
       "      <th>Voorzieningen</th>\n",
       "      <th>WGS84_X</th>\n",
       "      <th>WGS84_Y</th>\n",
       "      <th>WarmWater</th>\n",
       "      <th>WoonOppervlakte</th>\n",
       "      <th>Woonoppervlakte</th>\n",
       "    </tr>\n",
       "  </thead>\n",
       "  <tbody>\n",
       "    <tr>\n",
       "      <th>0</th>\n",
       "      <td>2.0</td>\n",
       "      <td>6.0</td>\n",
       "      <td>3 woonlagen</td>\n",
       "      <td>In overleg</td>\n",
       "      <td>Nico Jessekade 27</td>\n",
       "      <td>/Date(2742764400000+0100)/</td>\n",
       "      <td>None</td>\n",
       "      <td>NaN</td>\n",
       "      <td></td>\n",
       "      <td>2008</td>\n",
       "      <td>...</td>\n",
       "      <td>eengezinswoning, geschakelde woning</td>\n",
       "      <td>gelegen op het noordoosten</td>\n",
       "      <td>stadsverwarming</td>\n",
       "      <td>**PERFECT FAMILIEHUIS  VAN CIRCA 157 M² WAAR U...</td>\n",
       "      <td>mechanische ventilatie en TV kabel</td>\n",
       "      <td>4.999718</td>\n",
       "      <td>52.350610</td>\n",
       "      <td>centrale voorziening</td>\n",
       "      <td>157.0</td>\n",
       "      <td>157.0</td>\n",
       "    </tr>\n",
       "    <tr>\n",
       "      <th>1</th>\n",
       "      <td>1.0</td>\n",
       "      <td>4.0</td>\n",
       "      <td>2 woonlagen en een zolder</td>\n",
       "      <td>In overleg</td>\n",
       "      <td>Bombraak 31</td>\n",
       "      <td>/Date(2302210800000+0100)/</td>\n",
       "      <td>None</td>\n",
       "      <td>NaN</td>\n",
       "      <td></td>\n",
       "      <td>1993</td>\n",
       "      <td>...</td>\n",
       "      <td>eengezinswoning, tussenwoning</td>\n",
       "      <td>gelegen op het zuiden</td>\n",
       "      <td>C.V.-ketel</td>\n",
       "      <td>Stel je voor: gezellig samen genieten van het ...</td>\n",
       "      <td>alarminstallatie, buitenzonwering, jacuzzi, me...</td>\n",
       "      <td>4.891165</td>\n",
       "      <td>52.423310</td>\n",
       "      <td>C.V.-ketel</td>\n",
       "      <td>147.0</td>\n",
       "      <td>147.0</td>\n",
       "    </tr>\n",
       "    <tr>\n",
       "      <th>2</th>\n",
       "      <td>2.0</td>\n",
       "      <td>6.0</td>\n",
       "      <td>3 woonlagen</td>\n",
       "      <td>In overleg</td>\n",
       "      <td>Raphaëlplein 39</td>\n",
       "      <td>None</td>\n",
       "      <td>balkon aanwezig</td>\n",
       "      <td>NaN</td>\n",
       "      <td></td>\n",
       "      <td>1932</td>\n",
       "      <td>...</td>\n",
       "      <td>herenhuis, hoekwoning</td>\n",
       "      <td>None</td>\n",
       "      <td>C.V.-ketel</td>\n",
       "      <td>Een karatiristiek herenhuis uit de jaren 30, g...</td>\n",
       "      <td>mechanische ventilatie, rolluiken, alarminstal...</td>\n",
       "      <td>4.870361</td>\n",
       "      <td>52.347355</td>\n",
       "      <td>C.V.-ketel</td>\n",
       "      <td>250.0</td>\n",
       "      <td>250.0</td>\n",
       "    </tr>\n",
       "    <tr>\n",
       "      <th>3</th>\n",
       "      <td>1.0</td>\n",
       "      <td>6.0</td>\n",
       "      <td>1 woonlaag</td>\n",
       "      <td>In overleg</td>\n",
       "      <td>Stadionweg 198 III</td>\n",
       "      <td>/Date(2699215200000+0200)/</td>\n",
       "      <td>balkon aanwezig</td>\n",
       "      <td>200.0</td>\n",
       "      <td></td>\n",
       "      <td>1931</td>\n",
       "      <td>...</td>\n",
       "      <td>bovenwoning (appartement)</td>\n",
       "      <td>None</td>\n",
       "      <td>blokverwarming</td>\n",
       "      <td>Zeer ruim en sfeervol 5-kamerappartement met z...</td>\n",
       "      <td>TV kabel</td>\n",
       "      <td>4.869973</td>\n",
       "      <td>52.346794</td>\n",
       "      <td>centrale voorziening</td>\n",
       "      <td>118.0</td>\n",
       "      <td>118.0</td>\n",
       "    </tr>\n",
       "    <tr>\n",
       "      <th>4</th>\n",
       "      <td>1.0</td>\n",
       "      <td>5.0</td>\n",
       "      <td>1 woonlaag</td>\n",
       "      <td>In overleg</td>\n",
       "      <td>Ben van Meerendonkstraat 293</td>\n",
       "      <td>/Date(2796588000000+0200)/</td>\n",
       "      <td>None</td>\n",
       "      <td>280.0</td>\n",
       "      <td></td>\n",
       "      <td>2001-2010</td>\n",
       "      <td>...</td>\n",
       "      <td>bovenwoning (appartement)</td>\n",
       "      <td>None</td>\n",
       "      <td>stadsverwarming en vloerverwarming geheel</td>\n",
       "      <td>Ben van Meerendonkstraat 293, 1087 LN AMSTERDA...</td>\n",
       "      <td>mechanische ventilatie, TV kabel en lift</td>\n",
       "      <td>5.011224</td>\n",
       "      <td>52.349520</td>\n",
       "      <td>centrale voorziening</td>\n",
       "      <td>194.0</td>\n",
       "      <td>194.0</td>\n",
       "    </tr>\n",
       "  </tbody>\n",
       "</table>\n",
       "<p>5 rows × 50 columns</p>\n",
       "</div>"
      ],
      "text/plain": [
       "   AantalBadkamers  AantalKamers            AantalWoonlagen Aanvaarding  \\\n",
       "0              2.0           6.0                3 woonlagen  In overleg   \n",
       "1              1.0           4.0  2 woonlagen en een zolder  In overleg   \n",
       "2              2.0           6.0                3 woonlagen  In overleg   \n",
       "3              1.0           6.0                 1 woonlaag  In overleg   \n",
       "4              1.0           5.0                 1 woonlaag  In overleg   \n",
       "\n",
       "                          Adres              AfgekochtDatum  BalkonDakterras  \\\n",
       "0             Nico Jessekade 27  /Date(2742764400000+0100)/             None   \n",
       "1                   Bombraak 31  /Date(2302210800000+0100)/             None   \n",
       "2               Raphaëlplein 39                        None  balkon aanwezig   \n",
       "3            Stadionweg 198 III  /Date(2699215200000+0200)/  balkon aanwezig   \n",
       "4  Ben van Meerendonkstraat 293  /Date(2796588000000+0200)/             None   \n",
       "\n",
       "   BijdrageVVE Bijzonderheden   Bouwjaar       ...        \\\n",
       "0          NaN                      2008       ...         \n",
       "1          NaN                      1993       ...         \n",
       "2          NaN                      1932       ...         \n",
       "3        200.0                      1931       ...         \n",
       "4        280.0                 2001-2010       ...         \n",
       "\n",
       "                           SoortWoning                 TuinLigging  \\\n",
       "0  eengezinswoning, geschakelde woning  gelegen op het noordoosten   \n",
       "1        eengezinswoning, tussenwoning       gelegen op het zuiden   \n",
       "2                herenhuis, hoekwoning                        None   \n",
       "3            bovenwoning (appartement)                        None   \n",
       "4            bovenwoning (appartement)                        None   \n",
       "\n",
       "                                  Verwarming  \\\n",
       "0                            stadsverwarming   \n",
       "1                                 C.V.-ketel   \n",
       "2                                 C.V.-ketel   \n",
       "3                             blokverwarming   \n",
       "4  stadsverwarming en vloerverwarming geheel   \n",
       "\n",
       "                               VolledigeOmschrijving  \\\n",
       "0  **PERFECT FAMILIEHUIS  VAN CIRCA 157 M² WAAR U...   \n",
       "1  Stel je voor: gezellig samen genieten van het ...   \n",
       "2  Een karatiristiek herenhuis uit de jaren 30, g...   \n",
       "3  Zeer ruim en sfeervol 5-kamerappartement met z...   \n",
       "4  Ben van Meerendonkstraat 293, 1087 LN AMSTERDA...   \n",
       "\n",
       "                                       Voorzieningen   WGS84_X    WGS84_Y  \\\n",
       "0                 mechanische ventilatie en TV kabel  4.999718  52.350610   \n",
       "1  alarminstallatie, buitenzonwering, jacuzzi, me...  4.891165  52.423310   \n",
       "2  mechanische ventilatie, rolluiken, alarminstal...  4.870361  52.347355   \n",
       "3                                           TV kabel  4.869973  52.346794   \n",
       "4           mechanische ventilatie, TV kabel en lift  5.011224  52.349520   \n",
       "\n",
       "              WarmWater  WoonOppervlakte Woonoppervlakte  \n",
       "0  centrale voorziening            157.0           157.0  \n",
       "1            C.V.-ketel            147.0           147.0  \n",
       "2            C.V.-ketel            250.0           250.0  \n",
       "3  centrale voorziening            118.0           118.0  \n",
       "4  centrale voorziening            194.0           194.0  \n",
       "\n",
       "[5 rows x 50 columns]"
      ]
     },
     "execution_count": 55,
     "metadata": {},
     "output_type": "execute_result"
    }
   ],
   "source": [
    "# extract data, features and expected values\n",
    "raw_data = pd.read_json('../data/raw/scrape-results.json')\n",
    "X, y = extract_examples(raw_data['data'])\n",
    "X.head()"
   ]
  },
  {
   "cell_type": "code",
   "execution_count": 56,
   "metadata": {},
   "outputs": [
    {
     "name": "stderr",
     "output_type": "stream",
     "text": [
      "/home/nikitautiu/anaconda2/envs/datascience3/lib/python3.6/site-packages/scipy/sparse/compressed.py:774: SparseEfficiencyWarning: Changing the sparsity structure of a csr_matrix is expensive. lil_matrix is more efficient.\n",
      "  SparseEfficiencyWarning)\n"
     ]
    },
    {
     "data": {
      "text/plain": [
       "(3038, 27449)"
      ]
     },
     "execution_count": 56,
     "metadata": {},
     "output_type": "execute_result"
    }
   ],
   "source": [
    "X = FeatureExtractor(use_text=True, text_use_long=False).transform(X)\n",
    "X = Imputer().fit_transform(X)\n",
    "X = Normalizer().fit_transform(X)\n",
    "X.shape"
   ]
  },
  {
   "cell_type": "code",
   "execution_count": 57,
   "metadata": {
    "collapsed": true
   },
   "outputs": [],
   "source": [
    "# split them, use a 80/20 split\n",
    "# the random state is preinitialized to have reproductible results\n",
    "X_train, X_test, y_train, y_test = model_selection.train_test_split(\n",
    "    X, y, test_size=0.2, random_state=RANDOM_STATE)"
   ]
  },
  {
   "cell_type": "code",
   "execution_count": 65,
   "metadata": {},
   "outputs": [
    {
     "name": "stdout",
     "output_type": "stream",
     "text": [
      "Fitting estimator with 27449 features.\n"
     ]
    },
    {
     "name": "stderr",
     "output_type": "stream",
     "text": [
      "/home/nikitautiu/anaconda2/envs/datascience3/lib/python3.6/site-packages/sklearn/linear_model/coordinate_descent.py:484: ConvergenceWarning: Objective did not converge. You might want to increase the number of iterations. Fitting data with very small alpha may cause precision problems.\n",
      "  ConvergenceWarning)\n"
     ]
    },
    {
     "name": "stdout",
     "output_type": "stream",
     "text": [
      "Fitting estimator with 13725 features.\n"
     ]
    },
    {
     "name": "stderr",
     "output_type": "stream",
     "text": [
      "/home/nikitautiu/anaconda2/envs/datascience3/lib/python3.6/site-packages/sklearn/linear_model/coordinate_descent.py:484: ConvergenceWarning: Objective did not converge. You might want to increase the number of iterations. Fitting data with very small alpha may cause precision problems.\n",
      "  ConvergenceWarning)\n",
      "/home/nikitautiu/anaconda2/envs/datascience3/lib/python3.6/site-packages/sklearn/linear_model/coordinate_descent.py:484: ConvergenceWarning: Objective did not converge. You might want to increase the number of iterations. Fitting data with very small alpha may cause precision problems.\n",
      "  ConvergenceWarning)\n"
     ]
    }
   ],
   "source": [
    "svr_reg = Lasso(normalize=True, alpha=30)\n",
    "selector = RFE(svr_reg, step=0.5, verbose=True)\n",
    "selector = selector.fit(X, y)\n",
    "\n",
    "# print('TRAINING SCORE:', svr_reg.score(X_train, y_train))\n",
    "# print('TEST SCORE:', svr_reg.score(X_test, y_test))"
   ]
  },
  {
   "cell_type": "code",
   "execution_count": 66,
   "metadata": {},
   "outputs": [
    {
     "name": "stdout",
     "output_type": "stream",
     "text": [
      "TRAINING SCORE: 0.987356872387\n",
      "TEST SCORE: -0.129053939943\n"
     ]
    },
    {
     "name": "stderr",
     "output_type": "stream",
     "text": [
      "/home/nikitautiu/anaconda2/envs/datascience3/lib/python3.6/site-packages/sklearn/linear_model/coordinate_descent.py:484: ConvergenceWarning: Objective did not converge. You might want to increase the number of iterations. Fitting data with very small alpha may cause precision problems.\n",
      "  ConvergenceWarning)\n"
     ]
    }
   ],
   "source": [
    "selector.estimator.fit(X_train, y_train)\n",
    "\n",
    "print('TRAINING SCORE:', selector.estimator.score(X_train, y_train))\n",
    "print('TEST SCORE:', selector.estimator.score(X_test, y_test))"
   ]
  },
  {
   "cell_type": "code",
   "execution_count": 63,
   "metadata": {},
   "outputs": [
    {
     "name": "stdout",
     "output_type": "stream",
     "text": [
      "TRAINING SCORE: 0.00259863588088\n",
      "TEST SCORE: 0.00109169014477\n"
     ]
    }
   ],
   "source": [
    "reg = Lasso(alpha=10)\n",
    "reg.fit(X_train, y_train)\n",
    "\n",
    "print('TRAINING SCORE:', reg.score(X_train, y_train))\n",
    "print('TEST SCORE:',  reg.score(X_test, y_test))"
   ]
  },
  {
   "cell_type": "code",
   "execution_count": 53,
   "metadata": {},
   "outputs": [
    {
     "data": {
      "text/plain": [
       "1679    181979.489964\n",
       "319     148943.247745\n",
       "673    -148443.441687\n",
       "601     229988.927356\n",
       "1079    -17210.495915\n",
       "1806    540557.930926\n",
       "2792      6817.968917\n",
       "2197     96385.148466\n",
       "597     -21456.086643\n",
       "1067    174715.897513\n",
       "Name: Koopprijs, dtype: float64"
      ]
     },
     "execution_count": 53,
     "metadata": {},
     "output_type": "execute_result"
    }
   ],
   "source": [
    "selector.estimator.predict(X_test[:10, :]) - y_test[:10]"
   ]
  },
  {
   "cell_type": "code",
   "execution_count": 49,
   "metadata": {},
   "outputs": [
    {
     "data": {
      "text/plain": [
       "1679     459800.0\n",
       "319      525000.0\n",
       "673      399000.0\n",
       "601     2250000.0\n",
       "1079     470000.0\n",
       "1806      21000.0\n",
       "2792     190000.0\n",
       "2197     735000.0\n",
       "597      398000.0\n",
       "1067     885000.0\n",
       "Name: Koopprijs, dtype: float64"
      ]
     },
     "execution_count": 49,
     "metadata": {},
     "output_type": "execute_result"
    }
   ],
   "source": [
    "y_test[:10]"
   ]
  },
  {
   "cell_type": "code",
   "execution_count": null,
   "metadata": {
    "collapsed": true
   },
   "outputs": [],
   "source": [
    "train_sizes, train_scores, valid_scores = model_selection.learning_curve(\n",
    "     SVR(kernel='rbf'), X, y, train_sizes=[50, 80, 110, 500, 1000, 2000], cv=5)"
   ]
  },
  {
   "cell_type": "code",
   "execution_count": null,
   "metadata": {
    "collapsed": true
   },
   "outputs": [],
   "source": [
    "def plot_learning_curve(estimator, title, X, y, ylim=None, cv=None,\n",
    "                        n_jobs=1, train_sizes=np.linspace(.1, 1.0, 5)):\n",
    "    \"\"\"\n",
    "    Generate a simple plot of the test and training learning curve.\n",
    "\n",
    "    Parameters\n",
    "    ----------\n",
    "    estimator : object type that implements the \"fit\" and \"predict\" methods\n",
    "        An object of that type which is cloned for each validation.\n",
    "\n",
    "    title : string\n",
    "        Title for the chart.\n",
    "\n",
    "    X : array-like, shape (n_samples, n_features)\n",
    "        Training vector, where n_samples is the number of samples and\n",
    "        n_features is the number of features.\n",
    "\n",
    "    y : array-like, shape (n_samples) or (n_samples, n_features), optional\n",
    "        Target relative to X for classification or regression;\n",
    "        None for unsupervised learning.\n",
    "\n",
    "    ylim : tuple, shape (ymin, ymax), optional\n",
    "        Defines minimum and maximum yvalues plotted.\n",
    "\n",
    "    cv : int, cross-validation generator or an iterable, optional\n",
    "        Determines the cross-validation splitting strategy.\n",
    "        Possible inputs for cv are:\n",
    "          - None, to use the default 3-fold cross-validation,\n",
    "          - integer, to specify the number of folds.\n",
    "          - An object to be used as a cross-validation generator.\n",
    "          - An iterable yielding train/test splits.\n",
    "\n",
    "        For integer/None inputs, if ``y`` is binary or multiclass,\n",
    "        :class:`StratifiedKFold` used. If the estimator is not a classifier\n",
    "        or if ``y`` is neither binary nor multiclass, :class:`KFold` is used.\n",
    "\n",
    "        Refer :ref:`User Guide <cross_validation>` for the various\n",
    "        cross-validators that can be used here.\n",
    "\n",
    "    n_jobs : integer, optional\n",
    "        Number of jobs to run in parallel (default 1).\n",
    "    \"\"\"\n",
    "    plt.figure()\n",
    "    plt.title(title)\n",
    "    if ylim is not None:\n",
    "        plt.ylim(*ylim)\n",
    "    plt.xlabel(\"Training examples\")\n",
    "    plt.ylabel(\"Score\")\n",
    "    train_sizes, train_scores, test_scores = learning_curve(\n",
    "        estimator, X, y, cv=cv, n_jobs=n_jobs, train_sizes=train_sizes)\n",
    "    train_scores_mean = np.mean(train_scores, axis=1)\n",
    "    train_scores_std = np.std(train_scores, axis=1)\n",
    "    test_scores_mean = np.mean(test_scores, axis=1)\n",
    "    test_scores_std = np.std(test_scores, axis=1)\n",
    "    plt.grid()\n",
    "\n",
    "    plt.fill_between(train_sizes, train_scores_mean - train_scores_std,\n",
    "                     train_scores_mean + train_scores_std, alpha=0.1,\n",
    "                     color=\"r\")\n",
    "    plt.fill_between(train_sizes, test_scores_mean - test_scores_std,\n",
    "                     test_scores_mean + test_scores_std, alpha=0.1, color=\"g\")\n",
    "    plt.plot(train_sizes, train_scores_mean, 'o-', color=\"r\",\n",
    "             label=\"Training score\")\n",
    "    plt.plot(train_sizes, test_scores_mean, 'o-', color=\"g\",\n",
    "             label=\"Cross-validation score\")\n",
    "\n",
    "    plt.legend(loc=\"best\")\n",
    "    return plt"
   ]
  },
  {
   "cell_type": "code",
   "execution_count": null,
   "metadata": {
    "collapsed": true
   },
   "outputs": [],
   "source": [
    "plot_learning_curve(SVR(kernel=\"poly\"), 'lc', X_train, y_train, cv=5, n_jobs=4, train_sizes=[50, 80, 110, 500, 1000, 1900])"
   ]
  },
  {
   "cell_type": "code",
   "execution_count": null,
   "metadata": {
    "collapsed": true
   },
   "outputs": [],
   "source": [
    "y_train.median()"
   ]
  },
  {
   "cell_type": "code",
   "execution_count": null,
   "metadata": {
    "collapsed": true
   },
   "outputs": [],
   "source": [
    ""
   ]
  }
 ],
 "metadata": {
  "kernelspec": {
   "display_name": "Python 3",
   "language": "python",
   "name": "python3"
  },
  "language_info": {
   "codemirror_mode": {
    "name": "ipython",
    "version": 3.0
   },
   "file_extension": ".py",
   "mimetype": "text/x-python",
   "name": "python",
   "nbconvert_exporter": "python",
   "pygments_lexer": "ipython3",
   "version": "3.6.1"
  }
 },
 "nbformat": 4,
 "nbformat_minor": 0
}